{
 "cells": [
  {
   "cell_type": "code",
   "execution_count": 1,
   "metadata": {},
   "outputs": [],
   "source": [
    "import matplotlib.pyplot as plt\n",
    "import numpy as np\n",
    "import pandas as pd\n",
    "\n",
    "import gradio as gr"
   ]
  },
  {
   "cell_type": "code",
   "execution_count": 2,
   "metadata": {},
   "outputs": [],
   "source": [
    "def sales_projections(employee_data):\n",
    "    sales_data = employee_data.iloc[:, 1:4].astype(\"int\").to_numpy()\n",
    "    regression_values = np.apply_along_axis(\n",
    "        lambda row: np.array(np.poly1d(np.polyfit([0, 1, 2], row, 2))), 0, sales_data\n",
    "    )\n",
    "    projected_months = np.repeat(\n",
    "        np.expand_dims(np.arange(3, 12), 0), len(sales_data), axis=0\n",
    "    )\n",
    "    projected_values = np.array(\n",
    "        [\n",
    "            month * month * regression[0] + month * regression[1] + regression[2]\n",
    "            for month, regression in zip(projected_months, regression_values)\n",
    "        ]\n",
    "    )\n",
    "    plt.plot(projected_values.T)\n",
    "    plt.legend(employee_data[\"Name\"])\n",
    "    return employee_data, plt.gcf(), regression_values"
   ]
  },
  {
   "cell_type": "code",
   "execution_count": 3,
   "metadata": {},
   "outputs": [],
   "source": [
    "interface = gr.Interface(\n",
    "    sales_projections,\n",
    "    gr.inputs.Dataframe(\n",
    "        headers=[\"Name\", \"Jan Sales\", \"Feb Sales\", \"Mar Sales\"],\n",
    "        default=[[\"Jon\", 12, 14, 18], [\"Alice\", 14, 17, 2], [\"Sana\", 8, 9.5, 12]],\n",
    "    ),\n",
    "    [\"dataframe\", \"plot\", \"numpy\"],\n",
    "    description=\"Enter sales figures for employees to predict sales trajectory over year.\",\n",
    ")"
   ]
  },
  {
   "cell_type": "code",
   "execution_count": 4,
   "metadata": {},
   "outputs": [
    {
     "name": "stdout",
     "output_type": "stream",
     "text": [
      "Running on local URL:  http://127.0.0.1:7867/\n",
      "\n",
      "To create a public link, set `share=True` in `launch()`.\n"
     ]
    },
    {
     "data": {
      "text/html": [
       "\n",
       "        <iframe\n",
       "            width=\"900\"\n",
       "            height=\"500\"\n",
       "            src=\"http://127.0.0.1:7867/\"\n",
       "            frameborder=\"0\"\n",
       "            allowfullscreen\n",
       "        ></iframe>\n",
       "        "
      ],
      "text/plain": [
       "<IPython.lib.display.IFrame at 0x20aa55a5708>"
      ]
     },
     "metadata": {},
     "output_type": "display_data"
    },
    {
     "data": {
      "text/plain": [
       "(<fastapi.applications.FastAPI at 0x20aa2d40b48>,\n",
       " 'http://127.0.0.1:7867/',\n",
       " None)"
      ]
     },
     "execution_count": 4,
     "metadata": {},
     "output_type": "execute_result"
    }
   ],
   "source": [
    "interface.launch()"
   ]
  },
  {
   "cell_type": "code",
   "execution_count": null,
   "metadata": {},
   "outputs": [],
   "source": []
  }
 ],
 "metadata": {
  "kernelspec": {
   "display_name": "Python 3",
   "language": "python",
   "name": "python3"
  },
  "language_info": {
   "codemirror_mode": {
    "name": "ipython",
    "version": 3
   },
   "file_extension": ".py",
   "mimetype": "text/x-python",
   "name": "python",
   "nbconvert_exporter": "python",
   "pygments_lexer": "ipython3",
   "version": "3.7.6"
  }
 },
 "nbformat": 4,
 "nbformat_minor": 4
}
